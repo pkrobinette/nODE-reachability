{
 "cells": [
  {
   "cell_type": "code",
   "execution_count": 5,
   "id": "applicable-philadelphia",
   "metadata": {},
   "outputs": [],
   "source": [
    "import numpy as np\n",
    "import torch\n",
    "import torch.nn as nn"
   ]
  },
  {
   "cell_type": "code",
   "execution_count": 6,
   "id": "engaging-adapter",
   "metadata": {},
   "outputs": [],
   "source": [
    "class TanhNewtonImplicitLayer(nn.Module):\n",
    "    def __init__(self, out_features, tol = 1e-4, max_iter=50):\n",
    "        super().__init__()\n",
    "        self.linear = nn.Linear(out_features, out_features, bias=False)\n",
    "        self.tol = tol\n",
    "        self.max_iter = max_iter\n",
    "  \n",
    "    def forward(self, x):\n",
    "        # Run Newton's method outside of the autograd framework\n",
    "        with torch.no_grad():\n",
    "            z = torch.tanh(x)\n",
    "            self.iterations = 0\n",
    "            while self.iterations < self.max_iter:\n",
    "                z_linear = self.linear(z) + x\n",
    "                g = z - torch.tanh(z_linear)\n",
    "                self.err = torch.norm(g)\n",
    "                if self.err < self.tol:\n",
    "                    break\n",
    "\n",
    "                # newton step\n",
    "                J = torch.eye(z.shape[1])[None,:,:] - (1 / torch.cosh(z_linear)**2)[:,:,None]*self.linear.weight[None,:,:]\n",
    "                z = z - torch.solve(g[:,:,None], J)[0][:,:,0]\n",
    "                self.iterations += 1\n",
    "    \n",
    "        # reengage autograd and add the gradient hook\n",
    "        z = torch.tanh(self.linear(z) + x)\n",
    "        z.register_hook(lambda grad : torch.solve(grad[:,:,None], J.transpose(1,2))[0][:,:,0])\n",
    "        return z"
   ]
  },
  {
   "cell_type": "code",
   "execution_count": 14,
   "id": "hindu-palestinian",
   "metadata": {},
   "outputs": [],
   "source": [
    "from torchvision import datasets, transforms\n",
    "from torch.utils.data import DataLoader\n",
    "import torch.optim as optim"
   ]
  },
  {
   "cell_type": "code",
   "execution_count": 15,
   "id": "increasing-fossil",
   "metadata": {},
   "outputs": [],
   "source": [
    "mnist_train = datasets.MNIST(\".\", train=True, download=True, transform=transforms.ToTensor())\n",
    "mnist_test = datasets.MNIST(\".\", train=False, download=True, transform=transforms.ToTensor())\n",
    "train_loader = DataLoader(mnist_train, batch_size = 100, shuffle=True)\n",
    "test_loader = DataLoader(mnist_test, batch_size = 100, shuffle=False)\n",
    "device = torch.device(\"cuda:0\" if torch.cuda.is_available() else \"cpu\")"
   ]
  },
  {
   "cell_type": "code",
   "execution_count": 16,
   "id": "negative-sacrifice",
   "metadata": {},
   "outputs": [],
   "source": [
    "# a generic function for running a single epoch (training or evaluation)\n",
    "def epoch(loader, model, opt=None, monitor=None):\n",
    "    total_loss, total_err, total_monitor = 0.,0.,0.\n",
    "    model.eval() if opt is None else model.train()\n",
    "    for X,y in loader:\n",
    "        X,y = X.to(device), y.to(device)\n",
    "        yp = model(X)\n",
    "        loss = nn.CrossEntropyLoss()(yp,y)\n",
    "        if opt:\n",
    "            opt.zero_grad()\n",
    "            loss.backward()\n",
    "            if sum(torch.sum(torch.isnan(p.grad)) for p in model.parameters()) == 0:\n",
    "              opt.step()\n",
    "        \n",
    "        total_err += (yp.max(dim=1)[1] != y).sum().item()\n",
    "        total_loss += loss.item() * X.shape[0]\n",
    "        if monitor is not None:\n",
    "            total_monitor += monitor(model)\n",
    "    return total_err / len(loader.dataset), total_loss / len(loader.dataset), total_monitor / len(loader)"
   ]
  },
  {
   "cell_type": "code",
   "execution_count": 17,
   "id": "integral-wilson",
   "metadata": {},
   "outputs": [],
   "source": [
    "torch.manual_seed(0)\n",
    "model = nn.Sequential(nn.Flatten(),\n",
    "                      nn.Linear(784, 100),\n",
    "                      TanhNewtonImplicitLayer(100, max_iter=40),\n",
    "                      nn.Linear(100, 10)\n",
    "                      ).to(device)\n",
    "opt = optim.SGD(model.parameters(), lr=1e-1)"
   ]
  },
  {
   "cell_type": "code",
   "execution_count": 18,
   "id": "coordinated-vancouver",
   "metadata": {},
   "outputs": [
    {
     "name": "stdout",
     "output_type": "stream",
     "text": [
      "Train Error: 0.1113, Loss: 0.4020, Newton Iters: 6.66 | Test Error: 0.0661, Loss: 0.2231, Newton Iters: 6.73\n",
      "Train Error: 0.0582, Loss: 0.1938, Newton Iters: 7.27 | Test Error: 0.1081, Loss: 0.3645, Newton Iters: 6.63\n",
      "Train Error: 0.0435, Loss: 0.1476, Newton Iters: 6.96 | Test Error: 0.0437, Loss: 0.1473, Newton Iters: 6.63\n",
      "Train Error: 0.0362, Loss: 0.1220, Newton Iters: 7.20 | Test Error: 0.0382, Loss: 0.1311, Newton Iters: 6.57\n",
      "Train Error: 0.0310, Loss: 0.1047, Newton Iters: 8.06 | Test Error: 0.0332, Loss: 0.1129, Newton Iters: 7.60\n",
      "Train Error: 0.0204, Loss: 0.0733, Newton Iters: 8.74 | Test Error: 0.0316, Loss: 0.1052, Newton Iters: 8.11\n",
      "Train Error: 0.0191, Loss: 0.0681, Newton Iters: 9.12 | Test Error: 0.0311, Loss: 0.1057, Newton Iters: 8.22\n",
      "Train Error: 0.0183, Loss: 0.0656, Newton Iters: 9.48 | Test Error: 0.0304, Loss: 0.1051, Newton Iters: 8.73\n",
      "Train Error: 0.0177, Loss: 0.0629, Newton Iters: 9.91 | Test Error: 0.0302, Loss: 0.1051, Newton Iters: 9.53\n",
      "Train Error: 0.0170, Loss: 0.0605, Newton Iters: 10.36 | Test Error: 0.0302, Loss: 0.1068, Newton Iters: 10.15\n"
     ]
    }
   ],
   "source": [
    "for i in range(10):\n",
    "    if i == 5:\n",
    "        opt.param_groups[0][\"lr\"] = 1e-2\n",
    "\n",
    "    train_err, train_loss, train_fpiter = epoch(train_loader, model, opt, lambda x : x[2].iterations)\n",
    "    test_err, test_loss, test_fpiter = epoch(test_loader, model, monitor = lambda x : x[2].iterations)\n",
    "    print(f\"Train Error: {train_err:.4f}, Loss: {train_loss:.4f}, Newton Iters: {train_fpiter:.2f} | \" +\n",
    "          f\"Test Error: {test_err:.4f}, Loss: {test_loss:.4f}, Newton Iters: {test_fpiter:.2f}\")"
   ]
  },
  {
   "cell_type": "code",
   "execution_count": null,
   "id": "future-processor",
   "metadata": {},
   "outputs": [],
   "source": []
  }
 ],
 "metadata": {
  "kernelspec": {
   "display_name": "Python 3",
   "language": "python",
   "name": "python3"
  },
  "language_info": {
   "codemirror_mode": {
    "name": "ipython",
    "version": 3
   },
   "file_extension": ".py",
   "mimetype": "text/x-python",
   "name": "python",
   "nbconvert_exporter": "python",
   "pygments_lexer": "ipython3",
   "version": "3.8.3"
  }
 },
 "nbformat": 4,
 "nbformat_minor": 5
}
